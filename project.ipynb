{
 "cells": [
  {
   "cell_type": "markdown",
   "metadata": {},
   "source": [
    "# CSE 151A Group Project"
   ]
  },
  {
   "cell_type": "code",
   "execution_count": 81,
   "metadata": {},
   "outputs": [],
   "source": [
    "import pandas as pd\n",
    "import datetime as dt"
   ]
  },
  {
   "cell_type": "markdown",
   "metadata": {},
   "source": [
    "## Data Exploration"
   ]
  },
  {
   "cell_type": "markdown",
   "metadata": {},
   "source": [
    "Start by loading in the dataset. Since the reviews csv doesn't provide anything aside from the fact that a certain location id got reviewed by a certain user id, we opted to not use it. "
   ]
  },
  {
   "cell_type": "code",
   "execution_count": 82,
   "metadata": {},
   "outputs": [
    {
     "name": "stderr",
     "output_type": "stream",
     "text": [
      "c:\\Users\\Home\\anaconda3\\envs\\dsc80\\lib\\site-packages\\IPython\\core\\interactiveshell.py:3508: DtypeWarning: Columns (5,13) have mixed types.Specify dtype option on import or set low_memory=False.\n",
      "  exec(code_obj, self.user_global_ns, self.user_ns)\n"
     ]
    },
    {
     "data": {
      "text/html": [
       "<div>\n",
       "<style scoped>\n",
       "    .dataframe tbody tr th:only-of-type {\n",
       "        vertical-align: middle;\n",
       "    }\n",
       "\n",
       "    .dataframe tbody tr th {\n",
       "        vertical-align: top;\n",
       "    }\n",
       "\n",
       "    .dataframe thead th {\n",
       "        text-align: right;\n",
       "    }\n",
       "</style>\n",
       "<table border=\"1\" class=\"dataframe\">\n",
       "  <thead>\n",
       "    <tr style=\"text-align: right;\">\n",
       "      <th></th>\n",
       "      <th>listing_id</th>\n",
       "      <th>name</th>\n",
       "      <th>host_id</th>\n",
       "      <th>host_since</th>\n",
       "      <th>host_location</th>\n",
       "      <th>host_response_time</th>\n",
       "      <th>host_response_rate</th>\n",
       "      <th>host_acceptance_rate</th>\n",
       "      <th>host_is_superhost</th>\n",
       "      <th>host_total_listings_count</th>\n",
       "      <th>...</th>\n",
       "      <th>minimum_nights</th>\n",
       "      <th>maximum_nights</th>\n",
       "      <th>review_scores_rating</th>\n",
       "      <th>review_scores_accuracy</th>\n",
       "      <th>review_scores_cleanliness</th>\n",
       "      <th>review_scores_checkin</th>\n",
       "      <th>review_scores_communication</th>\n",
       "      <th>review_scores_location</th>\n",
       "      <th>review_scores_value</th>\n",
       "      <th>instant_bookable</th>\n",
       "    </tr>\n",
       "  </thead>\n",
       "  <tbody>\n",
       "    <tr>\n",
       "      <th>0</th>\n",
       "      <td>281420</td>\n",
       "      <td>Beautiful Flat in le Village Montmartre, Paris</td>\n",
       "      <td>1466919</td>\n",
       "      <td>2011-12-03</td>\n",
       "      <td>Paris, Ile-de-France, France</td>\n",
       "      <td>NaN</td>\n",
       "      <td>NaN</td>\n",
       "      <td>NaN</td>\n",
       "      <td>f</td>\n",
       "      <td>1.0</td>\n",
       "      <td>...</td>\n",
       "      <td>2</td>\n",
       "      <td>1125</td>\n",
       "      <td>100.0</td>\n",
       "      <td>10.0</td>\n",
       "      <td>10.0</td>\n",
       "      <td>10.0</td>\n",
       "      <td>10.0</td>\n",
       "      <td>10.0</td>\n",
       "      <td>10.0</td>\n",
       "      <td>f</td>\n",
       "    </tr>\n",
       "    <tr>\n",
       "      <th>1</th>\n",
       "      <td>3705183</td>\n",
       "      <td>39 mÃÂ² Paris (Sacre CÃâur)</td>\n",
       "      <td>10328771</td>\n",
       "      <td>2013-11-29</td>\n",
       "      <td>Paris, Ile-de-France, France</td>\n",
       "      <td>NaN</td>\n",
       "      <td>NaN</td>\n",
       "      <td>NaN</td>\n",
       "      <td>f</td>\n",
       "      <td>1.0</td>\n",
       "      <td>...</td>\n",
       "      <td>2</td>\n",
       "      <td>1125</td>\n",
       "      <td>100.0</td>\n",
       "      <td>10.0</td>\n",
       "      <td>10.0</td>\n",
       "      <td>10.0</td>\n",
       "      <td>10.0</td>\n",
       "      <td>10.0</td>\n",
       "      <td>10.0</td>\n",
       "      <td>f</td>\n",
       "    </tr>\n",
       "    <tr>\n",
       "      <th>2</th>\n",
       "      <td>4082273</td>\n",
       "      <td>Lovely apartment with Terrace, 60m2</td>\n",
       "      <td>19252768</td>\n",
       "      <td>2014-07-31</td>\n",
       "      <td>Paris, Ile-de-France, France</td>\n",
       "      <td>NaN</td>\n",
       "      <td>NaN</td>\n",
       "      <td>NaN</td>\n",
       "      <td>f</td>\n",
       "      <td>1.0</td>\n",
       "      <td>...</td>\n",
       "      <td>2</td>\n",
       "      <td>1125</td>\n",
       "      <td>100.0</td>\n",
       "      <td>10.0</td>\n",
       "      <td>10.0</td>\n",
       "      <td>10.0</td>\n",
       "      <td>10.0</td>\n",
       "      <td>10.0</td>\n",
       "      <td>10.0</td>\n",
       "      <td>f</td>\n",
       "    </tr>\n",
       "    <tr>\n",
       "      <th>3</th>\n",
       "      <td>4797344</td>\n",
       "      <td>Cosy studio (close to Eiffel tower)</td>\n",
       "      <td>10668311</td>\n",
       "      <td>2013-12-17</td>\n",
       "      <td>Paris, Ile-de-France, France</td>\n",
       "      <td>NaN</td>\n",
       "      <td>NaN</td>\n",
       "      <td>NaN</td>\n",
       "      <td>f</td>\n",
       "      <td>1.0</td>\n",
       "      <td>...</td>\n",
       "      <td>2</td>\n",
       "      <td>1125</td>\n",
       "      <td>100.0</td>\n",
       "      <td>10.0</td>\n",
       "      <td>10.0</td>\n",
       "      <td>10.0</td>\n",
       "      <td>10.0</td>\n",
       "      <td>10.0</td>\n",
       "      <td>10.0</td>\n",
       "      <td>f</td>\n",
       "    </tr>\n",
       "    <tr>\n",
       "      <th>4</th>\n",
       "      <td>4823489</td>\n",
       "      <td>Close to Eiffel Tower - Beautiful flat : 2 rooms</td>\n",
       "      <td>24837558</td>\n",
       "      <td>2014-12-14</td>\n",
       "      <td>Paris, Ile-de-France, France</td>\n",
       "      <td>NaN</td>\n",
       "      <td>NaN</td>\n",
       "      <td>NaN</td>\n",
       "      <td>f</td>\n",
       "      <td>1.0</td>\n",
       "      <td>...</td>\n",
       "      <td>2</td>\n",
       "      <td>1125</td>\n",
       "      <td>100.0</td>\n",
       "      <td>10.0</td>\n",
       "      <td>10.0</td>\n",
       "      <td>10.0</td>\n",
       "      <td>10.0</td>\n",
       "      <td>10.0</td>\n",
       "      <td>10.0</td>\n",
       "      <td>f</td>\n",
       "    </tr>\n",
       "  </tbody>\n",
       "</table>\n",
       "<p>5 rows × 33 columns</p>\n",
       "</div>"
      ],
      "text/plain": [
       "   listing_id                                              name   host_id  \\\n",
       "0      281420    Beautiful Flat in le Village Montmartre, Paris   1466919   \n",
       "1     3705183                   39 mÃÂ² Paris (Sacre CÃ\n",
       "âur)  10328771   \n",
       "2     4082273               Lovely apartment with Terrace, 60m2  19252768   \n",
       "3     4797344               Cosy studio (close to Eiffel tower)  10668311   \n",
       "4     4823489  Close to Eiffel Tower - Beautiful flat : 2 rooms  24837558   \n",
       "\n",
       "   host_since                 host_location host_response_time  \\\n",
       "0  2011-12-03  Paris, Ile-de-France, France                NaN   \n",
       "1  2013-11-29  Paris, Ile-de-France, France                NaN   \n",
       "2  2014-07-31  Paris, Ile-de-France, France                NaN   \n",
       "3  2013-12-17  Paris, Ile-de-France, France                NaN   \n",
       "4  2014-12-14  Paris, Ile-de-France, France                NaN   \n",
       "\n",
       "   host_response_rate  host_acceptance_rate host_is_superhost  \\\n",
       "0                 NaN                   NaN                 f   \n",
       "1                 NaN                   NaN                 f   \n",
       "2                 NaN                   NaN                 f   \n",
       "3                 NaN                   NaN                 f   \n",
       "4                 NaN                   NaN                 f   \n",
       "\n",
       "   host_total_listings_count  ... minimum_nights maximum_nights  \\\n",
       "0                        1.0  ...              2           1125   \n",
       "1                        1.0  ...              2           1125   \n",
       "2                        1.0  ...              2           1125   \n",
       "3                        1.0  ...              2           1125   \n",
       "4                        1.0  ...              2           1125   \n",
       "\n",
       "  review_scores_rating review_scores_accuracy review_scores_cleanliness  \\\n",
       "0                100.0                   10.0                      10.0   \n",
       "1                100.0                   10.0                      10.0   \n",
       "2                100.0                   10.0                      10.0   \n",
       "3                100.0                   10.0                      10.0   \n",
       "4                100.0                   10.0                      10.0   \n",
       "\n",
       "   review_scores_checkin  review_scores_communication review_scores_location  \\\n",
       "0                   10.0                         10.0                   10.0   \n",
       "1                   10.0                         10.0                   10.0   \n",
       "2                   10.0                         10.0                   10.0   \n",
       "3                   10.0                         10.0                   10.0   \n",
       "4                   10.0                         10.0                   10.0   \n",
       "\n",
       "  review_scores_value  instant_bookable  \n",
       "0                10.0                 f  \n",
       "1                10.0                 f  \n",
       "2                10.0                 f  \n",
       "3                10.0                 f  \n",
       "4                10.0                 f  \n",
       "\n",
       "[5 rows x 33 columns]"
      ]
     },
     "execution_count": 82,
     "metadata": {},
     "output_type": "execute_result"
    }
   ],
   "source": [
    "listings_df = pd.read_csv('Listings.csv', encoding='ISO-8859-1')\n",
    "listings_df.head()"
   ]
  },
  {
   "cell_type": "markdown",
   "metadata": {},
   "source": [
    "Let's start by looking at the shape of the dataset."
   ]
  },
  {
   "cell_type": "code",
   "execution_count": 83,
   "metadata": {},
   "outputs": [
    {
     "data": {
      "text/plain": [
       "(279712, 33)"
      ]
     },
     "execution_count": 83,
     "metadata": {},
     "output_type": "execute_result"
    }
   ],
   "source": [
    "listings_df.shape"
   ]
  },
  {
   "cell_type": "markdown",
   "metadata": {},
   "source": [
    "We have 279712 locations, each with 33 variables associated with them. \n",
    "\n",
    "Let's start by taking a look at what each column means."
   ]
  },
  {
   "cell_type": "code",
   "execution_count": 84,
   "metadata": {},
   "outputs": [
    {
     "data": {
      "text/html": [
       "<div>\n",
       "<style scoped>\n",
       "    .dataframe tbody tr th:only-of-type {\n",
       "        vertical-align: middle;\n",
       "    }\n",
       "\n",
       "    .dataframe tbody tr th {\n",
       "        vertical-align: top;\n",
       "    }\n",
       "\n",
       "    .dataframe thead th {\n",
       "        text-align: right;\n",
       "    }\n",
       "</style>\n",
       "<table border=\"1\" class=\"dataframe\">\n",
       "  <thead>\n",
       "    <tr style=\"text-align: right;\">\n",
       "      <th></th>\n",
       "      <th>Field</th>\n",
       "      <th>Description</th>\n",
       "    </tr>\n",
       "  </thead>\n",
       "  <tbody>\n",
       "    <tr>\n",
       "      <th>0</th>\n",
       "      <td>listing_id</td>\n",
       "      <td>Listing ID</td>\n",
       "    </tr>\n",
       "    <tr>\n",
       "      <th>1</th>\n",
       "      <td>name</td>\n",
       "      <td>Listing Name</td>\n",
       "    </tr>\n",
       "    <tr>\n",
       "      <th>2</th>\n",
       "      <td>host_id</td>\n",
       "      <td>Host ID</td>\n",
       "    </tr>\n",
       "    <tr>\n",
       "      <th>3</th>\n",
       "      <td>host_since</td>\n",
       "      <td>Date the Host joined Airbnb</td>\n",
       "    </tr>\n",
       "    <tr>\n",
       "      <th>4</th>\n",
       "      <td>host_location</td>\n",
       "      <td>Location where the Host is based</td>\n",
       "    </tr>\n",
       "    <tr>\n",
       "      <th>5</th>\n",
       "      <td>host_response_time</td>\n",
       "      <td>Estimate of how long the Host takes to respond</td>\n",
       "    </tr>\n",
       "    <tr>\n",
       "      <th>6</th>\n",
       "      <td>host_response_rate</td>\n",
       "      <td>Percentage of times the Host responds</td>\n",
       "    </tr>\n",
       "    <tr>\n",
       "      <th>7</th>\n",
       "      <td>host_acceptance_rate</td>\n",
       "      <td>Percentage of times the Host accepts a booking...</td>\n",
       "    </tr>\n",
       "    <tr>\n",
       "      <th>8</th>\n",
       "      <td>host_is_superhost</td>\n",
       "      <td>Binary field to determine if the Host is a Sup...</td>\n",
       "    </tr>\n",
       "    <tr>\n",
       "      <th>9</th>\n",
       "      <td>host_total_listings_count</td>\n",
       "      <td>Total listings the Host has in Airbnb</td>\n",
       "    </tr>\n",
       "    <tr>\n",
       "      <th>10</th>\n",
       "      <td>host_has_profile_pic</td>\n",
       "      <td>Binary field to determine if the Host has a pr...</td>\n",
       "    </tr>\n",
       "    <tr>\n",
       "      <th>11</th>\n",
       "      <td>host_identity_verified</td>\n",
       "      <td>Binary field to determine if the Host has a ve...</td>\n",
       "    </tr>\n",
       "    <tr>\n",
       "      <th>12</th>\n",
       "      <td>neighbourhood</td>\n",
       "      <td>Neighborhood the Listing is in</td>\n",
       "    </tr>\n",
       "    <tr>\n",
       "      <th>13</th>\n",
       "      <td>district</td>\n",
       "      <td>District the Listing is in</td>\n",
       "    </tr>\n",
       "    <tr>\n",
       "      <th>14</th>\n",
       "      <td>city</td>\n",
       "      <td>City the Listing is in</td>\n",
       "    </tr>\n",
       "    <tr>\n",
       "      <th>15</th>\n",
       "      <td>latitude</td>\n",
       "      <td>Listing's latitude</td>\n",
       "    </tr>\n",
       "    <tr>\n",
       "      <th>16</th>\n",
       "      <td>longitude</td>\n",
       "      <td>Listing's longitude</td>\n",
       "    </tr>\n",
       "    <tr>\n",
       "      <th>17</th>\n",
       "      <td>property_type</td>\n",
       "      <td>Type of property for the Listing</td>\n",
       "    </tr>\n",
       "    <tr>\n",
       "      <th>18</th>\n",
       "      <td>room_type</td>\n",
       "      <td>Type of room type in Airbnb for the Listing</td>\n",
       "    </tr>\n",
       "    <tr>\n",
       "      <th>19</th>\n",
       "      <td>accommodates</td>\n",
       "      <td>Guests the Listing accomodates</td>\n",
       "    </tr>\n",
       "    <tr>\n",
       "      <th>20</th>\n",
       "      <td>bedrooms</td>\n",
       "      <td>Bedrooms in the Listing</td>\n",
       "    </tr>\n",
       "    <tr>\n",
       "      <th>21</th>\n",
       "      <td>amenities</td>\n",
       "      <td>Amenities the Listing includes</td>\n",
       "    </tr>\n",
       "    <tr>\n",
       "      <th>22</th>\n",
       "      <td>price</td>\n",
       "      <td>Listing price (in each country's currency)</td>\n",
       "    </tr>\n",
       "    <tr>\n",
       "      <th>23</th>\n",
       "      <td>minimum_nights</td>\n",
       "      <td>Minimum nights per booking</td>\n",
       "    </tr>\n",
       "    <tr>\n",
       "      <th>24</th>\n",
       "      <td>maximum_nights</td>\n",
       "      <td>Maximum nights per booking</td>\n",
       "    </tr>\n",
       "    <tr>\n",
       "      <th>25</th>\n",
       "      <td>review_scores_rating</td>\n",
       "      <td>Listing's overall rating (out of 100)</td>\n",
       "    </tr>\n",
       "    <tr>\n",
       "      <th>26</th>\n",
       "      <td>review_scores_accuracy</td>\n",
       "      <td>Listing's accuracy score based on what's promo...</td>\n",
       "    </tr>\n",
       "    <tr>\n",
       "      <th>27</th>\n",
       "      <td>review_scores_cleanliness</td>\n",
       "      <td>Listing's cleanliness score (out of 10)</td>\n",
       "    </tr>\n",
       "    <tr>\n",
       "      <th>28</th>\n",
       "      <td>review_scores_checkin</td>\n",
       "      <td>Listing's check-in experience score (out of 10)</td>\n",
       "    </tr>\n",
       "    <tr>\n",
       "      <th>29</th>\n",
       "      <td>review_scores_communication</td>\n",
       "      <td>Listing's communication with the Host score (o...</td>\n",
       "    </tr>\n",
       "    <tr>\n",
       "      <th>30</th>\n",
       "      <td>review_scores_location</td>\n",
       "      <td>Listing's location score within the city (out ...</td>\n",
       "    </tr>\n",
       "    <tr>\n",
       "      <th>31</th>\n",
       "      <td>review_scores_value</td>\n",
       "      <td>Listing's value score relative to its price (o...</td>\n",
       "    </tr>\n",
       "    <tr>\n",
       "      <th>32</th>\n",
       "      <td>instant_bookable</td>\n",
       "      <td>Binary field to determine if the Listing can b...</td>\n",
       "    </tr>\n",
       "  </tbody>\n",
       "</table>\n",
       "</div>"
      ],
      "text/plain": [
       "                          Field  \\\n",
       "0                    listing_id   \n",
       "1                          name   \n",
       "2                       host_id   \n",
       "3                    host_since   \n",
       "4                 host_location   \n",
       "5            host_response_time   \n",
       "6            host_response_rate   \n",
       "7          host_acceptance_rate   \n",
       "8             host_is_superhost   \n",
       "9     host_total_listings_count   \n",
       "10         host_has_profile_pic   \n",
       "11       host_identity_verified   \n",
       "12                neighbourhood   \n",
       "13                     district   \n",
       "14                         city   \n",
       "15                     latitude   \n",
       "16                    longitude   \n",
       "17                property_type   \n",
       "18                    room_type   \n",
       "19                 accommodates   \n",
       "20                     bedrooms   \n",
       "21                    amenities   \n",
       "22                        price   \n",
       "23               minimum_nights   \n",
       "24               maximum_nights   \n",
       "25         review_scores_rating   \n",
       "26       review_scores_accuracy   \n",
       "27    review_scores_cleanliness   \n",
       "28        review_scores_checkin   \n",
       "29  review_scores_communication   \n",
       "30       review_scores_location   \n",
       "31          review_scores_value   \n",
       "32             instant_bookable   \n",
       "\n",
       "                                          Description  \n",
       "0                                          Listing ID  \n",
       "1                                        Listing Name  \n",
       "2                                             Host ID  \n",
       "3                         Date the Host joined Airbnb  \n",
       "4                    Location where the Host is based  \n",
       "5      Estimate of how long the Host takes to respond  \n",
       "6               Percentage of times the Host responds  \n",
       "7   Percentage of times the Host accepts a booking...  \n",
       "8   Binary field to determine if the Host is a Sup...  \n",
       "9               Total listings the Host has in Airbnb  \n",
       "10  Binary field to determine if the Host has a pr...  \n",
       "11  Binary field to determine if the Host has a ve...  \n",
       "12                     Neighborhood the Listing is in  \n",
       "13                         District the Listing is in  \n",
       "14                             City the Listing is in  \n",
       "15                                 Listing's latitude  \n",
       "16                                Listing's longitude  \n",
       "17                   Type of property for the Listing  \n",
       "18        Type of room type in Airbnb for the Listing  \n",
       "19                     Guests the Listing accomodates  \n",
       "20                            Bedrooms in the Listing  \n",
       "21                     Amenities the Listing includes  \n",
       "22         Listing price (in each country's currency)  \n",
       "23                         Minimum nights per booking  \n",
       "24                         Maximum nights per booking  \n",
       "25              Listing's overall rating (out of 100)  \n",
       "26  Listing's accuracy score based on what's promo...  \n",
       "27            Listing's cleanliness score (out of 10)  \n",
       "28    Listing's check-in experience score (out of 10)  \n",
       "29  Listing's communication with the Host score (o...  \n",
       "30  Listing's location score within the city (out ...  \n",
       "31  Listing's value score relative to its price (o...  \n",
       "32  Binary field to determine if the Listing can b...  "
      ]
     },
     "execution_count": 84,
     "metadata": {},
     "output_type": "execute_result"
    }
   ],
   "source": [
    "listings_info = pd.read_csv('Listings_data_dictionary.csv', encoding='ISO-8859-1')\n",
    "listings_info"
   ]
  },
  {
   "cell_type": "markdown",
   "metadata": {},
   "source": [
    "Now that we have a look at what each column means, let's start by dropping every column that couldn't possibly be used to predict the rating of the listing.\n",
    "\n",
    "We'll also drop any columns that are associated with the rating, because that information is not available at the time of booking."
   ]
  },
  {
   "cell_type": "code",
   "execution_count": 85,
   "metadata": {},
   "outputs": [
    {
     "data": {
      "text/plain": [
       "Index(['listing_id', 'name', 'host_id', 'host_since', 'host_location',\n",
       "       'host_response_time', 'host_response_rate', 'host_acceptance_rate',\n",
       "       'host_is_superhost', 'host_total_listings_count',\n",
       "       'host_has_profile_pic', 'host_identity_verified', 'neighbourhood',\n",
       "       'district', 'city', 'latitude', 'longitude', 'property_type',\n",
       "       'room_type', 'accommodates', 'bedrooms', 'amenities', 'price',\n",
       "       'minimum_nights', 'maximum_nights', 'review_scores_rating',\n",
       "       'review_scores_accuracy', 'review_scores_cleanliness',\n",
       "       'review_scores_checkin', 'review_scores_communication',\n",
       "       'review_scores_location', 'review_scores_value', 'instant_bookable'],\n",
       "      dtype='object')"
      ]
     },
     "execution_count": 85,
     "metadata": {},
     "output_type": "execute_result"
    }
   ],
   "source": [
    "listings_df.columns"
   ]
  },
  {
   "cell_type": "code",
   "execution_count": 86,
   "metadata": {},
   "outputs": [
    {
     "data": {
      "text/plain": [
       "Index(['host_since', 'host_location', 'host_response_time',\n",
       "       'host_response_rate', 'host_acceptance_rate', 'host_is_superhost',\n",
       "       'host_total_listings_count', 'host_has_profile_pic',\n",
       "       'host_identity_verified', 'neighbourhood', 'district', 'city',\n",
       "       'latitude', 'longitude', 'property_type', 'room_type', 'accommodates',\n",
       "       'bedrooms', 'amenities', 'price', 'minimum_nights', 'maximum_nights',\n",
       "       'review_scores_rating', 'instant_bookable'],\n",
       "      dtype='object')"
      ]
     },
     "execution_count": 86,
     "metadata": {},
     "output_type": "execute_result"
    }
   ],
   "source": [
    "unusable_cols = [\"listing_id\",\"name\",\"host_id\"]\n",
    "unavailable_cols = ['review_scores_accuracy', 'review_scores_cleanliness',\n",
    "                    'review_scores_checkin', 'review_scores_communication',\n",
    "                    'review_scores_location', 'review_scores_value']\n",
    "\n",
    "listings_df = listings_df.drop(unusable_cols,axis=1)\n",
    "listings_df = listings_df.drop(unavailable_cols,axis=1)\n",
    "listings_df.columns"
   ]
  },
  {
   "cell_type": "markdown",
   "metadata": {},
   "source": [
    "Next, we're going to take a look at the missing values in the dataset."
   ]
  },
  {
   "cell_type": "code",
   "execution_count": 87,
   "metadata": {},
   "outputs": [
    {
     "name": "stdout",
     "output_type": "stream",
     "text": [
      "host_since: 165 missing values\n",
      "host_location: 840 missing values\n",
      "host_response_time: 128782 missing values\n",
      "host_response_rate: 128782 missing values\n",
      "host_acceptance_rate: 113087 missing values\n",
      "host_is_superhost: 165 missing values\n",
      "host_total_listings_count: 165 missing values\n",
      "host_has_profile_pic: 165 missing values\n",
      "host_identity_verified: 165 missing values\n",
      "neighbourhood: 0 missing values\n",
      "district: 242700 missing values\n",
      "city: 0 missing values\n",
      "latitude: 0 missing values\n",
      "longitude: 0 missing values\n",
      "property_type: 0 missing values\n",
      "room_type: 0 missing values\n",
      "accommodates: 0 missing values\n",
      "bedrooms: 29435 missing values\n",
      "amenities: 0 missing values\n",
      "price: 0 missing values\n",
      "minimum_nights: 0 missing values\n",
      "maximum_nights: 0 missing values\n",
      "review_scores_rating: 91405 missing values\n",
      "instant_bookable: 0 missing values\n"
     ]
    }
   ],
   "source": [
    "for column in listings_df.columns:\n",
    "    print(column + \": \" + str(listings_df[column].isna().sum()) + \" missing values\")"
   ]
  },
  {
   "cell_type": "markdown",
   "metadata": {},
   "source": [
    "The first thing we noticed was that many of the host columns had the same number of missing values, which we guessed meant that AirBNB simply didn't have information on those hosts. Let's verify this."
   ]
  },
  {
   "cell_type": "code",
   "execution_count": 88,
   "metadata": {},
   "outputs": [
    {
     "name": "stdout",
     "output_type": "stream",
     "text": [
      "True\n"
     ]
    }
   ],
   "source": [
    "missing_165 = ['host_since', 'host_is_superhost', 'host_total_listings_count', \"host_has_profile_pic\", \"host_identity_verified\"]\n",
    "missing_count = listings_df[listings_df[missing_165].isna().all(axis=1)].shape[0]\n",
    "\n",
    "print(missing_count == 165)"
   ]
  },
  {
   "cell_type": "markdown",
   "metadata": {},
   "source": [
    "Great. We're going to delete all rows that have missing data in all of these columns, as we think that sacrificing such a small fraction of the dataset for additional variables is worthwhile."
   ]
  },
  {
   "cell_type": "code",
   "execution_count": 89,
   "metadata": {},
   "outputs": [
    {
     "data": {
      "text/plain": [
       "(279547, 24)"
      ]
     },
     "execution_count": 89,
     "metadata": {},
     "output_type": "execute_result"
    }
   ],
   "source": [
    "listings_df = listings_df[listings_df[missing_165].isna().all(axis=1) == False]\n",
    "listings_df.shape"
   ]
  },
  {
   "cell_type": "markdown",
   "metadata": {},
   "source": [
    "We also decided that due to the amount of missing values in host response times, host response rates, district, and host acceptance rates, we should omit those variables."
   ]
  },
  {
   "cell_type": "code",
   "execution_count": 90,
   "metadata": {},
   "outputs": [],
   "source": [
    "listings_df = listings_df.drop(columns=['host_response_time','host_response_rate', 'host_acceptance_rate', \"district\"])"
   ]
  },
  {
   "cell_type": "markdown",
   "metadata": {},
   "source": [
    "Bedrooms was a tough decision given the amount of missing data, but we opted to drop all rows where the number of bedrooms was missing, considering that it'd be tough to make a decision on booking an AirBNB without its number of bedrooms. More on this later."
   ]
  },
  {
   "cell_type": "code",
   "execution_count": 91,
   "metadata": {},
   "outputs": [],
   "source": [
    "listings_df = listings_df[listings_df[\"bedrooms\"].isna() == False]"
   ]
  },
  {
   "cell_type": "markdown",
   "metadata": {},
   "source": [
    "We decided latitude and longitude would be redundant when city is already provided, so we dropped that variable. We'll also drop neighborhood, as we feel it's unlikely to have enough data points for each neighborhood to be of use."
   ]
  },
  {
   "cell_type": "code",
   "execution_count": 92,
   "metadata": {},
   "outputs": [],
   "source": [
    "listings_df = listings_df.drop(columns=[\"latitude\",\"longitude\", \"neighbourhood\"])"
   ]
  },
  {
   "cell_type": "markdown",
   "metadata": {},
   "source": [
    "We'll also drop host_location, as we don't see it being effective in predicting rating."
   ]
  },
  {
   "cell_type": "code",
   "execution_count": 93,
   "metadata": {},
   "outputs": [],
   "source": [
    "listings_df = listings_df.drop(columns=[\"host_location\"])"
   ]
  },
  {
   "cell_type": "markdown",
   "metadata": {},
   "source": [
    "Finally, we're also going to have to drop all rows where review_scores_rating is null, as this is the variable we need to predict."
   ]
  },
  {
   "cell_type": "code",
   "execution_count": 94,
   "metadata": {},
   "outputs": [],
   "source": [
    "listings_df = listings_df[listings_df[\"review_scores_rating\"].isna() == False]"
   ]
  },
  {
   "cell_type": "markdown",
   "metadata": {},
   "source": [
    "Great, now we have eliminated all of our missing values."
   ]
  },
  {
   "cell_type": "code",
   "execution_count": 95,
   "metadata": {},
   "outputs": [
    {
     "name": "stdout",
     "output_type": "stream",
     "text": [
      "host_since: 0 missing values\n",
      "host_is_superhost: 0 missing values\n",
      "host_total_listings_count: 0 missing values\n",
      "host_has_profile_pic: 0 missing values\n",
      "host_identity_verified: 0 missing values\n",
      "city: 0 missing values\n",
      "property_type: 0 missing values\n",
      "room_type: 0 missing values\n",
      "accommodates: 0 missing values\n",
      "bedrooms: 0 missing values\n",
      "amenities: 0 missing values\n",
      "price: 0 missing values\n",
      "minimum_nights: 0 missing values\n",
      "maximum_nights: 0 missing values\n",
      "review_scores_rating: 0 missing values\n",
      "instant_bookable: 0 missing values\n"
     ]
    }
   ],
   "source": [
    "for column in listings_df.columns:\n",
    "    print(column + \": \" + str(listings_df[column].isna().sum()) + \" missing values\")"
   ]
  },
  {
   "cell_type": "code",
   "execution_count": 96,
   "metadata": {},
   "outputs": [
    {
     "data": {
      "text/plain": [
       "(168414, 16)"
      ]
     },
     "execution_count": 96,
     "metadata": {},
     "output_type": "execute_result"
    }
   ],
   "source": [
    "listings_df.shape"
   ]
  },
  {
   "cell_type": "markdown",
   "metadata": {},
   "source": [
    "We're now down to 168414 entries with 17 variables. Let's walk through the design rationale for each column:\n",
    "\n",
    "- host_since -- we want the amount of time a host has been active, as we think this would've given them time to adjust their properties to be of higher quality.\n",
    "- All other host variables -- gives us a decent idea of the quality of the host.\n",
    "- city -- gives us a good idea of their rough location.\n",
    "- property_type and room_type -- the type of housing may affect how well they're generally rated\n",
    "- accomodates / bedrooms -- the size of the AirBNB might follow general trends in rating\n",
    "- amenities -- gives us the added benefits, which may add a convenience that'll boost rating.\n",
    "- price -- rating may be correlated with pricing, one way or another\n",
    "- minimum_nights and maximum_nights -- we think that this'll add to or subtract from the convenience for the user, leading to correlation with rating\n",
    "- instant_bookable -- same as above."
   ]
  },
  {
   "cell_type": "markdown",
   "metadata": {},
   "source": [
    "Now, let's begin by evaluating for preprocessing."
   ]
  },
  {
   "cell_type": "code",
   "execution_count": 97,
   "metadata": {},
   "outputs": [
    {
     "data": {
      "text/html": [
       "<div>\n",
       "<style scoped>\n",
       "    .dataframe tbody tr th:only-of-type {\n",
       "        vertical-align: middle;\n",
       "    }\n",
       "\n",
       "    .dataframe tbody tr th {\n",
       "        vertical-align: top;\n",
       "    }\n",
       "\n",
       "    .dataframe thead th {\n",
       "        text-align: right;\n",
       "    }\n",
       "</style>\n",
       "<table border=\"1\" class=\"dataframe\">\n",
       "  <thead>\n",
       "    <tr style=\"text-align: right;\">\n",
       "      <th></th>\n",
       "      <th>host_since</th>\n",
       "      <th>host_is_superhost</th>\n",
       "      <th>host_total_listings_count</th>\n",
       "      <th>host_has_profile_pic</th>\n",
       "      <th>host_identity_verified</th>\n",
       "      <th>city</th>\n",
       "      <th>property_type</th>\n",
       "      <th>room_type</th>\n",
       "      <th>accommodates</th>\n",
       "      <th>bedrooms</th>\n",
       "      <th>amenities</th>\n",
       "      <th>price</th>\n",
       "      <th>minimum_nights</th>\n",
       "      <th>maximum_nights</th>\n",
       "      <th>review_scores_rating</th>\n",
       "      <th>instant_bookable</th>\n",
       "    </tr>\n",
       "  </thead>\n",
       "  <tbody>\n",
       "    <tr>\n",
       "      <th>0</th>\n",
       "      <td>2011-12-03</td>\n",
       "      <td>f</td>\n",
       "      <td>1.0</td>\n",
       "      <td>t</td>\n",
       "      <td>f</td>\n",
       "      <td>Paris</td>\n",
       "      <td>Entire apartment</td>\n",
       "      <td>Entire place</td>\n",
       "      <td>2</td>\n",
       "      <td>1.0</td>\n",
       "      <td>[\"Heating\", \"Kitchen\", \"Washer\", \"Wifi\", \"Long...</td>\n",
       "      <td>53</td>\n",
       "      <td>2</td>\n",
       "      <td>1125</td>\n",
       "      <td>100.0</td>\n",
       "      <td>f</td>\n",
       "    </tr>\n",
       "    <tr>\n",
       "      <th>1</th>\n",
       "      <td>2013-11-29</td>\n",
       "      <td>f</td>\n",
       "      <td>1.0</td>\n",
       "      <td>t</td>\n",
       "      <td>t</td>\n",
       "      <td>Paris</td>\n",
       "      <td>Entire apartment</td>\n",
       "      <td>Entire place</td>\n",
       "      <td>2</td>\n",
       "      <td>1.0</td>\n",
       "      <td>[\"Shampoo\", \"Heating\", \"Kitchen\", \"Essentials\"...</td>\n",
       "      <td>120</td>\n",
       "      <td>2</td>\n",
       "      <td>1125</td>\n",
       "      <td>100.0</td>\n",
       "      <td>f</td>\n",
       "    </tr>\n",
       "    <tr>\n",
       "      <th>2</th>\n",
       "      <td>2014-07-31</td>\n",
       "      <td>f</td>\n",
       "      <td>1.0</td>\n",
       "      <td>t</td>\n",
       "      <td>f</td>\n",
       "      <td>Paris</td>\n",
       "      <td>Entire apartment</td>\n",
       "      <td>Entire place</td>\n",
       "      <td>2</td>\n",
       "      <td>1.0</td>\n",
       "      <td>[\"Heating\", \"TV\", \"Kitchen\", \"Washer\", \"Wifi\",...</td>\n",
       "      <td>89</td>\n",
       "      <td>2</td>\n",
       "      <td>1125</td>\n",
       "      <td>100.0</td>\n",
       "      <td>f</td>\n",
       "    </tr>\n",
       "    <tr>\n",
       "      <th>3</th>\n",
       "      <td>2013-12-17</td>\n",
       "      <td>f</td>\n",
       "      <td>1.0</td>\n",
       "      <td>t</td>\n",
       "      <td>t</td>\n",
       "      <td>Paris</td>\n",
       "      <td>Entire apartment</td>\n",
       "      <td>Entire place</td>\n",
       "      <td>2</td>\n",
       "      <td>1.0</td>\n",
       "      <td>[\"Heating\", \"TV\", \"Kitchen\", \"Wifi\", \"Long ter...</td>\n",
       "      <td>58</td>\n",
       "      <td>2</td>\n",
       "      <td>1125</td>\n",
       "      <td>100.0</td>\n",
       "      <td>f</td>\n",
       "    </tr>\n",
       "    <tr>\n",
       "      <th>4</th>\n",
       "      <td>2014-12-14</td>\n",
       "      <td>f</td>\n",
       "      <td>1.0</td>\n",
       "      <td>t</td>\n",
       "      <td>f</td>\n",
       "      <td>Paris</td>\n",
       "      <td>Entire apartment</td>\n",
       "      <td>Entire place</td>\n",
       "      <td>2</td>\n",
       "      <td>1.0</td>\n",
       "      <td>[\"Heating\", \"TV\", \"Kitchen\", \"Essentials\", \"Ha...</td>\n",
       "      <td>60</td>\n",
       "      <td>2</td>\n",
       "      <td>1125</td>\n",
       "      <td>100.0</td>\n",
       "      <td>f</td>\n",
       "    </tr>\n",
       "  </tbody>\n",
       "</table>\n",
       "</div>"
      ],
      "text/plain": [
       "   host_since host_is_superhost  host_total_listings_count  \\\n",
       "0  2011-12-03                 f                        1.0   \n",
       "1  2013-11-29                 f                        1.0   \n",
       "2  2014-07-31                 f                        1.0   \n",
       "3  2013-12-17                 f                        1.0   \n",
       "4  2014-12-14                 f                        1.0   \n",
       "\n",
       "  host_has_profile_pic host_identity_verified   city     property_type  \\\n",
       "0                    t                      f  Paris  Entire apartment   \n",
       "1                    t                      t  Paris  Entire apartment   \n",
       "2                    t                      f  Paris  Entire apartment   \n",
       "3                    t                      t  Paris  Entire apartment   \n",
       "4                    t                      f  Paris  Entire apartment   \n",
       "\n",
       "      room_type  accommodates  bedrooms  \\\n",
       "0  Entire place             2       1.0   \n",
       "1  Entire place             2       1.0   \n",
       "2  Entire place             2       1.0   \n",
       "3  Entire place             2       1.0   \n",
       "4  Entire place             2       1.0   \n",
       "\n",
       "                                           amenities  price  minimum_nights  \\\n",
       "0  [\"Heating\", \"Kitchen\", \"Washer\", \"Wifi\", \"Long...     53               2   \n",
       "1  [\"Shampoo\", \"Heating\", \"Kitchen\", \"Essentials\"...    120               2   \n",
       "2  [\"Heating\", \"TV\", \"Kitchen\", \"Washer\", \"Wifi\",...     89               2   \n",
       "3  [\"Heating\", \"TV\", \"Kitchen\", \"Wifi\", \"Long ter...     58               2   \n",
       "4  [\"Heating\", \"TV\", \"Kitchen\", \"Essentials\", \"Ha...     60               2   \n",
       "\n",
       "   maximum_nights  review_scores_rating instant_bookable  \n",
       "0            1125                 100.0                f  \n",
       "1            1125                 100.0                f  \n",
       "2            1125                 100.0                f  \n",
       "3            1125                 100.0                f  \n",
       "4            1125                 100.0                f  "
      ]
     },
     "execution_count": 97,
     "metadata": {},
     "output_type": "execute_result"
    }
   ],
   "source": [
    "listings_df.head()"
   ]
  },
  {
   "cell_type": "markdown",
   "metadata": {},
   "source": [
    "First, since we want host_since to represent the amount of time the host has been active, we'll convert from datetime to a straight integer by subtracting it from the current date."
   ]
  },
  {
   "cell_type": "code",
   "execution_count": 98,
   "metadata": {},
   "outputs": [],
   "source": [
    "listings_df[\"host_since\"] = pd.to_datetime(listings_df[\"host_since\"])\n",
    "listings_df[\"host_since\"] = listings_df[\"host_since\"].apply(lambda x: dt.datetime.now() - x)\n",
    "listings_df[\"host_since\"] = listings_df[\"host_since\"].apply(lambda x: x.days)"
   ]
  },
  {
   "cell_type": "markdown",
   "metadata": {},
   "source": [
    "Next, we'll convert all columns consisting of t's and f's to 1's and 0's such that it can be more easily used by ML models."
   ]
  },
  {
   "cell_type": "code",
   "execution_count": 99,
   "metadata": {},
   "outputs": [],
   "source": [
    "tf_cols = [\"host_is_superhost\", \"host_has_profile_pic\", \"host_identity_verified\", \"instant_bookable\"]\n",
    "listings_df[tf_cols] = listings_df[tf_cols].replace({'t': 1, 'f': 0})"
   ]
  },
  {
   "cell_type": "markdown",
   "metadata": {},
   "source": [
    "Next, we'll one-hot encode all of the categorical variables with the exception of amenities."
   ]
  },
  {
   "cell_type": "code",
   "execution_count": 100,
   "metadata": {},
   "outputs": [],
   "source": [
    "cat_cols = [\"property_type\", \"room_type\", \"city\"]\n",
    "listings_df = pd.get_dummies(listings_df, columns=cat_cols)"
   ]
  },
  {
   "cell_type": "code",
   "execution_count": null,
   "metadata": {},
   "outputs": [],
   "source": []
  }
 ],
 "metadata": {
  "kernelspec": {
   "display_name": "dsc80",
   "language": "python",
   "name": "python3"
  },
  "language_info": {
   "codemirror_mode": {
    "name": "ipython",
    "version": 3
   },
   "file_extension": ".py",
   "mimetype": "text/x-python",
   "name": "python",
   "nbconvert_exporter": "python",
   "pygments_lexer": "ipython3",
   "version": "3.8.18"
  }
 },
 "nbformat": 4,
 "nbformat_minor": 2
}
